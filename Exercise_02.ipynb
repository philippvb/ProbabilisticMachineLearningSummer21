{
 "cells": [
  {
   "cell_type": "markdown",
   "metadata": {},
   "source": [
    "# Exercise Sheet #2: Battleships (1/2)\n",
    "\n",
    "### Probabilistic Machine Learning\n",
    "\n",
    "- **Lecturer**: Prof. Philipp Hennig\n",
    "- **Term**: SoSe 2020\n",
    "- **Due Date**: Monday, 04 May 2020, 10am\n",
    "\n",
    "\n",
    "<!--![battleship rules](https://upload.wikimedia.org/wikipedia/commons/e/e4/Battleships_Paper_Game.svg)-->\n",
    "\n",
    "Over the course of two weeks, we will implement an agent that can play the pen-and-paper game _Battleships_. The goal of this exercise sheet is to find exact prior probabilities of getting a hit by enumeration, and to update to a posterior given observations of hits and misses. This week we will understand why we can't construct the agent with this approach.  \n",
    "\n",
    "Next week we will use Monte Carlo techniques to build an agent that we can play against :). Stay tuned!"
   ]
  },
  {
   "cell_type": "code",
   "execution_count": 1,
   "metadata": {},
   "outputs": [],
   "source": [
    "import numpy as np\n",
    "import matplotlib\n",
    "import matplotlib.pyplot as plt"
   ]
  },
  {
   "cell_type": "markdown",
   "metadata": {},
   "source": [
    "### **2.1** A priori probability for a hit with one boat\n",
    "\n",
    "**Tasks**\n",
    "1. Write a function that takes the length of a boat and that returns the prior probability to observe a hit.\n",
    "2. Plot the prior for a carrier (length 5).\n",
    "\n",
    "\n",
    "*Hint:* You can find this probability by enumerating all possible positions of the boat."
   ]
  },
  {
   "cell_type": "code",
   "execution_count": 2,
   "metadata": {},
   "outputs": [],
   "source": [
    "field_size = 10"
   ]
  },
  {
   "cell_type": "markdown",
   "metadata": {},
   "source": [
    "_Note:_ Let `i` denote the _row_ index and `j` the _column_ index"
   ]
  },
  {
   "cell_type": "code",
   "execution_count": 3,
   "metadata": {},
   "outputs": [
    {
     "data": {
      "text/plain": [
       "<matplotlib.colorbar.Colorbar at 0x7fdbd83ab280>"
      ]
     },
     "execution_count": 3,
     "metadata": {},
     "output_type": "execute_result"
    },
    {
     "data": {
      "image/png": "[encoded data removed]",
      "text/plain": [
       "<Figure size 432x288 with 2 Axes>"
      ]
     },
     "metadata": {
      "needs_background": "light"
     },
     "output_type": "display_data"
    }
   ],
   "source": [
    "def boat_prior(boat_length, field_size):\n",
    "    \"\"\"\n",
    "    Computes the prior probability to get a hit given the boat length and the size of the board.\n",
    "    For a single-boat setup only.\n",
    "    :param boat_length: Length of the boat, type: int\n",
    "    :param field_size: size of the board, type: int\n",
    "    \n",
    "    :returns: np.ndarray of size (field_size, field_size) containing the probability of a hit for every field.\n",
    "    \"\"\"\n",
    "\n",
    "    map_ = np.zeros((field_size, field_size))\n",
    "\n",
    "    # Loop over all possible positions and orientations of the boat\n",
    "    for x in range(field_size):\n",
    "        for y in range(field_size):\n",
    "            orientations = []\n",
    "            if x <= field_size - boat_length:\n",
    "                orientations.append('horizontal')\n",
    "            if y <= field_size - boat_length:\n",
    "                orientations.append('vertical')\n",
    "            for o in orientations:\n",
    "                d = np.hstack((np.zeros((boat_length, 1)), np.arange(boat_length)[:, None])\n",
    "                              [::(-1 if o == 'horizontal' else 1)])\n",
    "                boat = tuple((np.array([[x, y]]) + d).astype(int).T)\n",
    "                map_[boat] += 1\n",
    "\n",
    "    return map_ / map_.sum() * boat_length\n",
    "\n",
    "L_carrier = 5\n",
    "carrier_prior = boat_prior(L_carrier, field_size)\n",
    "plt.imshow(carrier_prior)\n",
    "plt.colorbar()"
   ]
  },
  {
   "cell_type": "code",
   "execution_count": 4,
   "metadata": {},
   "outputs": [
    {
     "data": {
      "text/plain": [
       "5.000000000000001"
      ]
     },
     "execution_count": 4,
     "metadata": {},
     "output_type": "execute_result"
    }
   ],
   "source": [
    "# Sanity check: carrier_prior should sum to the length of the boat\n",
    "carrier_prior.sum()"
   ]
  },
  {
   "cell_type": "markdown",
   "metadata": {},
   "source": [
    "### **2.2** Updating to a posterior given hit/miss observations\n",
    "\n",
    "Let us define an `observation_board` that contains the observations. We use the following notation:  \n",
    "    `0` unseen field  \n",
    "    `-1` miss (water)  \n",
    "    `1` hit  "
   ]
  },
  {
   "cell_type": "markdown",
   "metadata": {},
   "source": [
    "**Task 1:** Write a function that takes as input the `observation_board` as well as the length of one boat, and that returns an array that contains the probability to get a hit at every coordinate of the field.\n",
    "\n",
    "*Hint:* Again, this can be achieved by enumeration. Take care of all the constraints imposed by the `observation_board`!"
   ]
  },
  {
   "cell_type": "code",
   "execution_count": 5,
   "metadata": {},
   "outputs": [],
   "source": [
    "def posterior_one_ship(observation_board, boat_length):\n",
    "    \"\"\"\n",
    "    Computes the posterior probability to get a hit given an array of observed hits and misses as well as the boat length.\n",
    "    For a single-boat setup only.\n",
    "    :param observation_board: the board containing unobserved locations (0), misses (-1), and hits (1), type: np.ndarray\n",
    "    :param boat_length: Length of the boat, type: int\n",
    "    \n",
    "    :returns: np.ndarray of the same size as the observation board containing the probability of a hit \n",
    "              for every field given the observations\n",
    "    \"\"\"\n",
    "    \n",
    "    map_ = np.zeros((field_size, field_size))\n",
    "    \n",
    "    # Loop over all possible positions and orientations of the boat\n",
    "    for x in range(field_size):\n",
    "        for y in range(field_size):\n",
    "            orientations = []\n",
    "            if x <= field_size - boat_length:\n",
    "                orientations.append('horizontal')\n",
    "            if y <= field_size - boat_length:\n",
    "                orientations.append('vertical')\n",
    "            for o in orientations:\n",
    "                d = np.hstack((np.zeros((boat_length, 1)), np.arange(boat_length)[:, None])\n",
    "                              [::(-1 if o == 'horizontal' else 1)])\n",
    "                boat = tuple((np.array([[x, y]]) + d).astype(int).T)\n",
    "                \n",
    "                # - Check if boat position satisfies constraints -\n",
    "                # Check if boat contains misses\n",
    "                if -1 in observation_board[boat]:\n",
    "                    continue\n",
    "                \n",
    "                # Check if board without boat contains hits\n",
    "                observation_board_ = observation_board.copy()\n",
    "                observation_board_[boat] = 2\n",
    "                if 1 in observation_board_:\n",
    "                    continue\n",
    "                \n",
    "                map_[boat] += 1\n",
    "    \n",
    "    if map_.sum() == 0:\n",
    "        raise ValueError(\"What kind of boat is that?\")\n",
    "    return map_ / map_.sum() * boat_length"
   ]
  },
  {
   "cell_type": "markdown",
   "metadata": {},
   "source": [
    "**Task 2:** Test your function on the following `observation_board`s (just run the cells)"
   ]
  },
  {
   "cell_type": "code",
   "execution_count": 6,
   "metadata": {},
   "outputs": [],
   "source": [
    "# board 1: Only misses\n",
    "obs_board_1 = np.zeros((field_size, field_size)); obs_board_1[[1, 2, 5, 8], [8, 3, 4, 6]] = -1\n",
    "\n",
    "# board 2: a few misses, one hit\n",
    "obs_board_2 = np.copy(obs_board_1); obs_board_2[7, 1] = 1\n",
    "\n",
    "# board 3: a few misses, two hits\n",
    "obs_board_3 = np.copy(obs_board_2); obs_board_3[6, 1] = 1\n",
    "\n",
    "# board 4: two for one boat impossible hits: This should cause an error\n",
    "obs_board_4 = np.copy(obs_board_2); obs_board_4[6, 2] = 1"
   ]
  },
  {
   "cell_type": "code",
   "execution_count": 7,
   "metadata": {},
   "outputs": [
    {
     "name": "stderr",
     "output_type": "stream",
     "text": [
      "<ipython-input-7-945bb33682b5>:13: MatplotlibDeprecationWarning: You are modifying the state of a globally registered colormap. In future versions, you will not be able to modify a registered colormap in-place. To remove this warning, you can make a copy of the colormap first. cmap = copy.copy(mpl.cm.get_cmap(\"viridis\"))\n",
      "  cmap.set_bad(color='w')\n"
     ]
    },
    {
     "data": {
      "image/png": "[encoded data removed]",
      "text/plain": [
       "<Figure size 864x432 with 8 Axes>"
      ]
     },
     "metadata": {
      "needs_background": "light"
     },
     "output_type": "display_data"
    }
   ],
   "source": [
    "### VISUALIZATION\n",
    "from matplotlib import colors\n",
    "\n",
    "# making a custom discrete colormap for hits and misses\n",
    "cmap_discrete = colors.ListedColormap(['white', 'C0','darkred'])\n",
    "boundaries = [-1.5, -0.5, 0.5, 1.5]\n",
    "norm = colors.BoundaryNorm(boundaries, cmap_discrete.N, clip=True)\n",
    "\n",
    "# Plot the boards and the corresponding posterior\n",
    "f, axs = plt.subplots(2, 4, figsize=(12,6))\n",
    "\n",
    "cmap = matplotlib.cm.viridis  # Can be any colormap that you want after the cm\n",
    "cmap.set_bad(color='w')\n",
    "\n",
    "# board 1\n",
    "post_1 = posterior_one_ship(obs_board_1, 5)\n",
    "axs[0, 0].imshow(obs_board_1, cmap=cmap_discrete, norm=norm)\n",
    "axs[1, 0].imshow(np.ma.masked_where(post_1 == 0, post_1), cmap=cmap)\n",
    "\n",
    "# board 2\n",
    "axs[0, 1].imshow(obs_board_2, cmap=cmap_discrete, norm=norm)\n",
    "axs[1, 1].imshow(posterior_one_ship(obs_board_2, 5))\n",
    "\n",
    "# board 3\n",
    "axs[0, 2].imshow(obs_board_3, cmap=cmap_discrete, norm=norm)\n",
    "axs[1, 2].imshow(posterior_one_ship(obs_board_3, 5))\n",
    "\n",
    "# board 4\n",
    "axs[0, 3].imshow(obs_board_4, cmap=cmap_discrete, norm=norm)\n",
    "try:\n",
    "    axs[1, 3].imshow(posterior_one_ship(obs_board_4, 5))\n",
    "except:\n",
    "    pass"
   ]
  },
  {
   "cell_type": "code",
   "execution_count": 11,
   "metadata": {},
   "outputs": [
    {
     "ename": "ValueError",
     "evalue": "What kind of boat is that?",
     "output_type": "error",
     "traceback": [
      "\u001b[0;31m---------------------------------------------------------------------------\u001b[0m",
      "\u001b[0;31mValueError\u001b[0m                                Traceback (most recent call last)",
      "\u001b[0;32m<ipython-input-11-ea8741cfb342>\u001b[0m in \u001b[0;36m<module>\u001b[0;34m\u001b[0m\n\u001b[1;32m      1\u001b[0m \u001b[0;31m# board 4 should raise an error\u001b[0m\u001b[0;34m\u001b[0m\u001b[0;34m\u001b[0m\u001b[0;34m\u001b[0m\u001b[0m\n\u001b[0;32m----> 2\u001b[0;31m \u001b[0mposterior_one_ship\u001b[0m\u001b[0;34m(\u001b[0m\u001b[0mobs_board_4\u001b[0m\u001b[0;34m,\u001b[0m \u001b[0;36m5\u001b[0m\u001b[0;34m)\u001b[0m\u001b[0;34m\u001b[0m\u001b[0;34m\u001b[0m\u001b[0m\n\u001b[0m",
      "\u001b[0;32m<ipython-input-5-1057fec84a33>\u001b[0m in \u001b[0;36mposterior_one_ship\u001b[0;34m(observation_board, boat_length)\u001b[0m\n\u001b[1;32m     39\u001b[0m \u001b[0;34m\u001b[0m\u001b[0m\n\u001b[1;32m     40\u001b[0m     \u001b[0;32mif\u001b[0m \u001b[0mmap_\u001b[0m\u001b[0;34m.\u001b[0m\u001b[0msum\u001b[0m\u001b[0;34m(\u001b[0m\u001b[0;34m)\u001b[0m \u001b[0;34m==\u001b[0m \u001b[0;36m0\u001b[0m\u001b[0;34m:\u001b[0m\u001b[0;34m\u001b[0m\u001b[0;34m\u001b[0m\u001b[0m\n\u001b[0;32m---> 41\u001b[0;31m         \u001b[0;32mraise\u001b[0m \u001b[0mValueError\u001b[0m\u001b[0;34m(\u001b[0m\u001b[0;34m\"What kind of boat is that?\"\u001b[0m\u001b[0;34m)\u001b[0m\u001b[0;34m\u001b[0m\u001b[0;34m\u001b[0m\u001b[0m\n\u001b[0m\u001b[1;32m     42\u001b[0m     \u001b[0;32mreturn\u001b[0m \u001b[0mmap_\u001b[0m \u001b[0;34m/\u001b[0m \u001b[0mmap_\u001b[0m\u001b[0;34m.\u001b[0m\u001b[0msum\u001b[0m\u001b[0;34m(\u001b[0m\u001b[0;34m)\u001b[0m \u001b[0;34m*\u001b[0m \u001b[0mboat_length\u001b[0m\u001b[0;34m\u001b[0m\u001b[0;34m\u001b[0m\u001b[0m\n",
      "\u001b[0;31mValueError\u001b[0m: What kind of boat is that?"
     ]
    }
   ],
   "source": [
    "# board 4 should raise an error\n",
    "posterior_one_ship(obs_board_4, 5)"
   ]
  },
  {
   "cell_type": "markdown",
   "metadata": {},
   "source": [
    "### **2.3** Towards battleship with more than one boat\n",
    "_Note: No coding required!_\n",
    "\n",
    "Next week's assignment will deal with the full game of Battleships, which, according to the above rules, contains seven ships.\n",
    "\n",
    "1. Think about how you would need to modify your above routines to compute  \n",
    "   &nbsp;&nbsp;&nbsp;&nbsp;&nbsp;&nbsp;   (a) the prior over ship locations   \n",
    "   &nbsp;&nbsp;&nbsp;&nbsp;&nbsp;&nbsp;   (b) the posterior over ship locations given hit/miss observations  \n",
    "    by enumerating all states. Describe the changes you would need to make to your code.\n",
    "2. Why will it be hard to compute the posterior with multiple boats?"
   ]
  },
  {
   "cell_type": "markdown",
   "metadata": {},
   "source": [
    "1. (a) It is not enough to just sum up the individual priors, because this would ignore that two ships cannot overlap. This needs to be taken into account. The code could look something like:\n",
    "```python\n",
    "for x1, y1, o1 in board:\n",
    "    for x2, y2, o2 in board:\n",
    "        if not valid:\n",
    "            continue\n",
    "        for x3, y3, o3 in board:\n",
    "            if not valid:\n",
    "                continue\n",
    "            for ...\n",
    "```\n",
    "1. (b) Here we need to check for each possible boats configuration whether there is a conflict, i.e. a miss inside a boat or a hit inside the water. The boat configurations could be generated like above.\n",
    "\n",
    "2. For $7$ boats we have $7 \\cdot 3 = 21$ nested for-loops, or $7$ times looping over the board twice (horizontal, vertical). This means instead of just enumerating `2 * board_length^2` possibilities (for `board_lenght=10` this is 200), we need to loop over `(2 * board_length^2) ^ 7` possibilities (in this case $= 200^7 = 1.28 \\times 10^{16}$). This is not counting the checking for validity described above, which of course also needs to loop over the whole board each time."
   ]
  }
 ],
 "metadata": {
  "kernelspec": {
   "display_name": "Python 3",
   "language": "python",
   "name": "python3"
  },
  "language_info": {
   "codemirror_mode": {
    "name": "ipython",
    "version": 3
   },
   "file_extension": ".py",
   "mimetype": "text/x-python",
   "name": "python",
   "nbconvert_exporter": "python",
   "pygments_lexer": "ipython3",
   "version": "3.8.5"
  }
 },
 "nbformat": 4,
 "nbformat_minor": 4
}
